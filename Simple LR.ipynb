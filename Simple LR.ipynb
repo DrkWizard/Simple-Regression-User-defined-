{
 "cells": [
  {
   "cell_type": "markdown",
   "metadata": {},
   "source": [
    "\"\"\"\n",
    "By: Jagrit Aggarwal\n",
    "Student\n",
    "Thapar Institute of Engineering & Technology,\n",
    "Patiala-147001, Punjab, India.\n",
    "\n",
    "Demo of 'Simple Linear Regression by user defined functions and confirmed by inbuilt function'\n",
    "\"\"\""
   ]
  },
  {
   "cell_type": "code",
   "execution_count": 36,
   "metadata": {},
   "outputs": [],
   "source": [
    "import pandas as pd\n",
    "import plotly.express as px\n",
    "import numpy as np\n",
    "import matplotlib.pyplot as plt"
   ]
  },
  {
   "cell_type": "code",
   "execution_count": 37,
   "metadata": {},
   "outputs": [],
   "source": [
    "df=px.data.tips()"
   ]
  },
  {
   "cell_type": "code",
   "execution_count": 38,
   "metadata": {},
   "outputs": [
    {
     "data": {
      "text/html": [
       "<div>\n",
       "<style scoped>\n",
       "    .dataframe tbody tr th:only-of-type {\n",
       "        vertical-align: middle;\n",
       "    }\n",
       "\n",
       "    .dataframe tbody tr th {\n",
       "        vertical-align: top;\n",
       "    }\n",
       "\n",
       "    .dataframe thead th {\n",
       "        text-align: right;\n",
       "    }\n",
       "</style>\n",
       "<table border=\"1\" class=\"dataframe\">\n",
       "  <thead>\n",
       "    <tr style=\"text-align: right;\">\n",
       "      <th></th>\n",
       "      <th>total_bill</th>\n",
       "      <th>tip</th>\n",
       "      <th>sex</th>\n",
       "      <th>smoker</th>\n",
       "      <th>day</th>\n",
       "      <th>time</th>\n",
       "      <th>size</th>\n",
       "    </tr>\n",
       "  </thead>\n",
       "  <tbody>\n",
       "    <tr>\n",
       "      <th>0</th>\n",
       "      <td>16.99</td>\n",
       "      <td>1.01</td>\n",
       "      <td>Female</td>\n",
       "      <td>No</td>\n",
       "      <td>Sun</td>\n",
       "      <td>Dinner</td>\n",
       "      <td>2</td>\n",
       "    </tr>\n",
       "    <tr>\n",
       "      <th>1</th>\n",
       "      <td>10.34</td>\n",
       "      <td>1.66</td>\n",
       "      <td>Male</td>\n",
       "      <td>No</td>\n",
       "      <td>Sun</td>\n",
       "      <td>Dinner</td>\n",
       "      <td>3</td>\n",
       "    </tr>\n",
       "    <tr>\n",
       "      <th>2</th>\n",
       "      <td>21.01</td>\n",
       "      <td>3.50</td>\n",
       "      <td>Male</td>\n",
       "      <td>No</td>\n",
       "      <td>Sun</td>\n",
       "      <td>Dinner</td>\n",
       "      <td>3</td>\n",
       "    </tr>\n",
       "    <tr>\n",
       "      <th>3</th>\n",
       "      <td>23.68</td>\n",
       "      <td>3.31</td>\n",
       "      <td>Male</td>\n",
       "      <td>No</td>\n",
       "      <td>Sun</td>\n",
       "      <td>Dinner</td>\n",
       "      <td>2</td>\n",
       "    </tr>\n",
       "    <tr>\n",
       "      <th>4</th>\n",
       "      <td>24.59</td>\n",
       "      <td>3.61</td>\n",
       "      <td>Female</td>\n",
       "      <td>No</td>\n",
       "      <td>Sun</td>\n",
       "      <td>Dinner</td>\n",
       "      <td>4</td>\n",
       "    </tr>\n",
       "    <tr>\n",
       "      <th>...</th>\n",
       "      <td>...</td>\n",
       "      <td>...</td>\n",
       "      <td>...</td>\n",
       "      <td>...</td>\n",
       "      <td>...</td>\n",
       "      <td>...</td>\n",
       "      <td>...</td>\n",
       "    </tr>\n",
       "    <tr>\n",
       "      <th>239</th>\n",
       "      <td>29.03</td>\n",
       "      <td>5.92</td>\n",
       "      <td>Male</td>\n",
       "      <td>No</td>\n",
       "      <td>Sat</td>\n",
       "      <td>Dinner</td>\n",
       "      <td>3</td>\n",
       "    </tr>\n",
       "    <tr>\n",
       "      <th>240</th>\n",
       "      <td>27.18</td>\n",
       "      <td>2.00</td>\n",
       "      <td>Female</td>\n",
       "      <td>Yes</td>\n",
       "      <td>Sat</td>\n",
       "      <td>Dinner</td>\n",
       "      <td>2</td>\n",
       "    </tr>\n",
       "    <tr>\n",
       "      <th>241</th>\n",
       "      <td>22.67</td>\n",
       "      <td>2.00</td>\n",
       "      <td>Male</td>\n",
       "      <td>Yes</td>\n",
       "      <td>Sat</td>\n",
       "      <td>Dinner</td>\n",
       "      <td>2</td>\n",
       "    </tr>\n",
       "    <tr>\n",
       "      <th>242</th>\n",
       "      <td>17.82</td>\n",
       "      <td>1.75</td>\n",
       "      <td>Male</td>\n",
       "      <td>No</td>\n",
       "      <td>Sat</td>\n",
       "      <td>Dinner</td>\n",
       "      <td>2</td>\n",
       "    </tr>\n",
       "    <tr>\n",
       "      <th>243</th>\n",
       "      <td>18.78</td>\n",
       "      <td>3.00</td>\n",
       "      <td>Female</td>\n",
       "      <td>No</td>\n",
       "      <td>Thur</td>\n",
       "      <td>Dinner</td>\n",
       "      <td>2</td>\n",
       "    </tr>\n",
       "  </tbody>\n",
       "</table>\n",
       "<p>244 rows × 7 columns</p>\n",
       "</div>"
      ],
      "text/plain": [
       "     total_bill   tip     sex smoker   day    time  size\n",
       "0         16.99  1.01  Female     No   Sun  Dinner     2\n",
       "1         10.34  1.66    Male     No   Sun  Dinner     3\n",
       "2         21.01  3.50    Male     No   Sun  Dinner     3\n",
       "3         23.68  3.31    Male     No   Sun  Dinner     2\n",
       "4         24.59  3.61  Female     No   Sun  Dinner     4\n",
       "..          ...   ...     ...    ...   ...     ...   ...\n",
       "239       29.03  5.92    Male     No   Sat  Dinner     3\n",
       "240       27.18  2.00  Female    Yes   Sat  Dinner     2\n",
       "241       22.67  2.00    Male    Yes   Sat  Dinner     2\n",
       "242       17.82  1.75    Male     No   Sat  Dinner     2\n",
       "243       18.78  3.00  Female     No  Thur  Dinner     2\n",
       "\n",
       "[244 rows x 7 columns]"
      ]
     },
     "execution_count": 38,
     "metadata": {},
     "output_type": "execute_result"
    }
   ],
   "source": [
    "df"
   ]
  },
  {
   "cell_type": "code",
   "execution_count": 39,
   "metadata": {},
   "outputs": [],
   "source": [
    "df=df.iloc[:,[0,1]]"
   ]
  },
  {
   "cell_type": "code",
   "execution_count": 40,
   "metadata": {},
   "outputs": [
    {
     "data": {
      "text/html": [
       "<div>\n",
       "<style scoped>\n",
       "    .dataframe tbody tr th:only-of-type {\n",
       "        vertical-align: middle;\n",
       "    }\n",
       "\n",
       "    .dataframe tbody tr th {\n",
       "        vertical-align: top;\n",
       "    }\n",
       "\n",
       "    .dataframe thead th {\n",
       "        text-align: right;\n",
       "    }\n",
       "</style>\n",
       "<table border=\"1\" class=\"dataframe\">\n",
       "  <thead>\n",
       "    <tr style=\"text-align: right;\">\n",
       "      <th></th>\n",
       "      <th>total_bill</th>\n",
       "      <th>tip</th>\n",
       "    </tr>\n",
       "  </thead>\n",
       "  <tbody>\n",
       "    <tr>\n",
       "      <th>0</th>\n",
       "      <td>16.99</td>\n",
       "      <td>1.01</td>\n",
       "    </tr>\n",
       "    <tr>\n",
       "      <th>1</th>\n",
       "      <td>10.34</td>\n",
       "      <td>1.66</td>\n",
       "    </tr>\n",
       "    <tr>\n",
       "      <th>2</th>\n",
       "      <td>21.01</td>\n",
       "      <td>3.50</td>\n",
       "    </tr>\n",
       "    <tr>\n",
       "      <th>3</th>\n",
       "      <td>23.68</td>\n",
       "      <td>3.31</td>\n",
       "    </tr>\n",
       "    <tr>\n",
       "      <th>4</th>\n",
       "      <td>24.59</td>\n",
       "      <td>3.61</td>\n",
       "    </tr>\n",
       "  </tbody>\n",
       "</table>\n",
       "</div>"
      ],
      "text/plain": [
       "   total_bill   tip\n",
       "0       16.99  1.01\n",
       "1       10.34  1.66\n",
       "2       21.01  3.50\n",
       "3       23.68  3.31\n",
       "4       24.59  3.61"
      ]
     },
     "execution_count": 40,
     "metadata": {},
     "output_type": "execute_result"
    }
   ],
   "source": [
    "df.head(5)"
   ]
  },
  {
   "cell_type": "markdown",
   "metadata": {},
   "source": [
    "tip=B1(total_bill)+B0"
   ]
  },
  {
   "cell_type": "code",
   "execution_count": 41,
   "metadata": {},
   "outputs": [
    {
     "data": {
      "text/plain": [
       "(244, 2)"
      ]
     },
     "execution_count": 41,
     "metadata": {},
     "output_type": "execute_result"
    }
   ],
   "source": [
    "data=df.values\n",
    "data.shape"
   ]
  },
  {
   "cell_type": "code",
   "execution_count": 42,
   "metadata": {},
   "outputs": [
    {
     "data": {
      "text/plain": [
       "array([[16.99,  1.01],\n",
       "       [10.34,  1.66],\n",
       "       [21.01,  3.5 ],\n",
       "       [23.68,  3.31],\n",
       "       [24.59,  3.61],\n",
       "       [25.29,  4.71],\n",
       "       [ 8.77,  2.  ],\n",
       "       [26.88,  3.12],\n",
       "       [15.04,  1.96],\n",
       "       [14.78,  3.23],\n",
       "       [10.27,  1.71],\n",
       "       [35.26,  5.  ],\n",
       "       [15.42,  1.57],\n",
       "       [18.43,  3.  ],\n",
       "       [14.83,  3.02],\n",
       "       [21.58,  3.92],\n",
       "       [10.33,  1.67],\n",
       "       [16.29,  3.71],\n",
       "       [16.97,  3.5 ],\n",
       "       [20.65,  3.35],\n",
       "       [17.92,  4.08],\n",
       "       [20.29,  2.75],\n",
       "       [15.77,  2.23],\n",
       "       [39.42,  7.58],\n",
       "       [19.82,  3.18],\n",
       "       [17.81,  2.34],\n",
       "       [13.37,  2.  ],\n",
       "       [12.69,  2.  ],\n",
       "       [21.7 ,  4.3 ],\n",
       "       [19.65,  3.  ],\n",
       "       [ 9.55,  1.45],\n",
       "       [18.35,  2.5 ],\n",
       "       [15.06,  3.  ],\n",
       "       [20.69,  2.45],\n",
       "       [17.78,  3.27],\n",
       "       [24.06,  3.6 ],\n",
       "       [16.31,  2.  ],\n",
       "       [16.93,  3.07],\n",
       "       [18.69,  2.31],\n",
       "       [31.27,  5.  ],\n",
       "       [16.04,  2.24],\n",
       "       [17.46,  2.54],\n",
       "       [13.94,  3.06],\n",
       "       [ 9.68,  1.32],\n",
       "       [30.4 ,  5.6 ],\n",
       "       [18.29,  3.  ],\n",
       "       [22.23,  5.  ],\n",
       "       [32.4 ,  6.  ],\n",
       "       [28.55,  2.05],\n",
       "       [18.04,  3.  ],\n",
       "       [12.54,  2.5 ],\n",
       "       [10.29,  2.6 ],\n",
       "       [34.81,  5.2 ],\n",
       "       [ 9.94,  1.56],\n",
       "       [25.56,  4.34],\n",
       "       [19.49,  3.51],\n",
       "       [38.01,  3.  ],\n",
       "       [26.41,  1.5 ],\n",
       "       [11.24,  1.76],\n",
       "       [48.27,  6.73],\n",
       "       [20.29,  3.21],\n",
       "       [13.81,  2.  ],\n",
       "       [11.02,  1.98],\n",
       "       [18.29,  3.76],\n",
       "       [17.59,  2.64],\n",
       "       [20.08,  3.15],\n",
       "       [16.45,  2.47],\n",
       "       [ 3.07,  1.  ],\n",
       "       [20.23,  2.01],\n",
       "       [15.01,  2.09],\n",
       "       [12.02,  1.97],\n",
       "       [17.07,  3.  ],\n",
       "       [26.86,  3.14],\n",
       "       [25.28,  5.  ],\n",
       "       [14.73,  2.2 ],\n",
       "       [10.51,  1.25],\n",
       "       [17.92,  3.08],\n",
       "       [27.2 ,  4.  ],\n",
       "       [22.76,  3.  ],\n",
       "       [17.29,  2.71],\n",
       "       [19.44,  3.  ],\n",
       "       [16.66,  3.4 ],\n",
       "       [10.07,  1.83],\n",
       "       [32.68,  5.  ],\n",
       "       [15.98,  2.03],\n",
       "       [34.83,  5.17],\n",
       "       [13.03,  2.  ],\n",
       "       [18.28,  4.  ],\n",
       "       [24.71,  5.85],\n",
       "       [21.16,  3.  ],\n",
       "       [28.97,  3.  ],\n",
       "       [22.49,  3.5 ],\n",
       "       [ 5.75,  1.  ],\n",
       "       [16.32,  4.3 ],\n",
       "       [22.75,  3.25],\n",
       "       [40.17,  4.73],\n",
       "       [27.28,  4.  ],\n",
       "       [12.03,  1.5 ],\n",
       "       [21.01,  3.  ],\n",
       "       [12.46,  1.5 ],\n",
       "       [11.35,  2.5 ],\n",
       "       [15.38,  3.  ],\n",
       "       [44.3 ,  2.5 ],\n",
       "       [22.42,  3.48],\n",
       "       [20.92,  4.08],\n",
       "       [15.36,  1.64],\n",
       "       [20.49,  4.06],\n",
       "       [25.21,  4.29],\n",
       "       [18.24,  3.76],\n",
       "       [14.31,  4.  ],\n",
       "       [14.  ,  3.  ],\n",
       "       [ 7.25,  1.  ],\n",
       "       [38.07,  4.  ],\n",
       "       [23.95,  2.55],\n",
       "       [25.71,  4.  ],\n",
       "       [17.31,  3.5 ],\n",
       "       [29.93,  5.07],\n",
       "       [10.65,  1.5 ],\n",
       "       [12.43,  1.8 ],\n",
       "       [24.08,  2.92],\n",
       "       [11.69,  2.31],\n",
       "       [13.42,  1.68],\n",
       "       [14.26,  2.5 ],\n",
       "       [15.95,  2.  ],\n",
       "       [12.48,  2.52],\n",
       "       [29.8 ,  4.2 ],\n",
       "       [ 8.52,  1.48],\n",
       "       [14.52,  2.  ],\n",
       "       [11.38,  2.  ],\n",
       "       [22.82,  2.18],\n",
       "       [19.08,  1.5 ],\n",
       "       [20.27,  2.83],\n",
       "       [11.17,  1.5 ],\n",
       "       [12.26,  2.  ],\n",
       "       [18.26,  3.25],\n",
       "       [ 8.51,  1.25],\n",
       "       [10.33,  2.  ],\n",
       "       [14.15,  2.  ],\n",
       "       [16.  ,  2.  ],\n",
       "       [13.16,  2.75],\n",
       "       [17.47,  3.5 ],\n",
       "       [34.3 ,  6.7 ],\n",
       "       [41.19,  5.  ],\n",
       "       [27.05,  5.  ],\n",
       "       [16.43,  2.3 ],\n",
       "       [ 8.35,  1.5 ],\n",
       "       [18.64,  1.36],\n",
       "       [11.87,  1.63],\n",
       "       [ 9.78,  1.73],\n",
       "       [ 7.51,  2.  ],\n",
       "       [14.07,  2.5 ],\n",
       "       [13.13,  2.  ],\n",
       "       [17.26,  2.74],\n",
       "       [24.55,  2.  ],\n",
       "       [19.77,  2.  ],\n",
       "       [29.85,  5.14],\n",
       "       [48.17,  5.  ],\n",
       "       [25.  ,  3.75],\n",
       "       [13.39,  2.61],\n",
       "       [16.49,  2.  ],\n",
       "       [21.5 ,  3.5 ],\n",
       "       [12.66,  2.5 ],\n",
       "       [16.21,  2.  ],\n",
       "       [13.81,  2.  ],\n",
       "       [17.51,  3.  ],\n",
       "       [24.52,  3.48],\n",
       "       [20.76,  2.24],\n",
       "       [31.71,  4.5 ],\n",
       "       [10.59,  1.61],\n",
       "       [10.63,  2.  ],\n",
       "       [50.81, 10.  ],\n",
       "       [15.81,  3.16],\n",
       "       [ 7.25,  5.15],\n",
       "       [31.85,  3.18],\n",
       "       [16.82,  4.  ],\n",
       "       [32.9 ,  3.11],\n",
       "       [17.89,  2.  ],\n",
       "       [14.48,  2.  ],\n",
       "       [ 9.6 ,  4.  ],\n",
       "       [34.63,  3.55],\n",
       "       [34.65,  3.68],\n",
       "       [23.33,  5.65],\n",
       "       [45.35,  3.5 ],\n",
       "       [23.17,  6.5 ],\n",
       "       [40.55,  3.  ],\n",
       "       [20.69,  5.  ],\n",
       "       [20.9 ,  3.5 ],\n",
       "       [30.46,  2.  ],\n",
       "       [18.15,  3.5 ],\n",
       "       [23.1 ,  4.  ],\n",
       "       [15.69,  1.5 ],\n",
       "       [19.81,  4.19],\n",
       "       [28.44,  2.56],\n",
       "       [15.48,  2.02],\n",
       "       [16.58,  4.  ],\n",
       "       [ 7.56,  1.44],\n",
       "       [10.34,  2.  ],\n",
       "       [43.11,  5.  ],\n",
       "       [13.  ,  2.  ],\n",
       "       [13.51,  2.  ],\n",
       "       [18.71,  4.  ],\n",
       "       [12.74,  2.01],\n",
       "       [13.  ,  2.  ],\n",
       "       [16.4 ,  2.5 ],\n",
       "       [20.53,  4.  ],\n",
       "       [16.47,  3.23],\n",
       "       [26.59,  3.41],\n",
       "       [38.73,  3.  ],\n",
       "       [24.27,  2.03],\n",
       "       [12.76,  2.23],\n",
       "       [30.06,  2.  ],\n",
       "       [25.89,  5.16],\n",
       "       [48.33,  9.  ],\n",
       "       [13.27,  2.5 ],\n",
       "       [28.17,  6.5 ],\n",
       "       [12.9 ,  1.1 ],\n",
       "       [28.15,  3.  ],\n",
       "       [11.59,  1.5 ],\n",
       "       [ 7.74,  1.44],\n",
       "       [30.14,  3.09],\n",
       "       [12.16,  2.2 ],\n",
       "       [13.42,  3.48],\n",
       "       [ 8.58,  1.92],\n",
       "       [15.98,  3.  ],\n",
       "       [13.42,  1.58],\n",
       "       [16.27,  2.5 ],\n",
       "       [10.09,  2.  ],\n",
       "       [20.45,  3.  ],\n",
       "       [13.28,  2.72],\n",
       "       [22.12,  2.88],\n",
       "       [24.01,  2.  ],\n",
       "       [15.69,  3.  ],\n",
       "       [11.61,  3.39],\n",
       "       [10.77,  1.47],\n",
       "       [15.53,  3.  ],\n",
       "       [10.07,  1.25],\n",
       "       [12.6 ,  1.  ],\n",
       "       [32.83,  1.17],\n",
       "       [35.83,  4.67],\n",
       "       [29.03,  5.92],\n",
       "       [27.18,  2.  ],\n",
       "       [22.67,  2.  ],\n",
       "       [17.82,  1.75],\n",
       "       [18.78,  3.  ]])"
      ]
     },
     "execution_count": 42,
     "metadata": {},
     "output_type": "execute_result"
    }
   ],
   "source": [
    "data"
   ]
  },
  {
   "cell_type": "code",
   "execution_count": 43,
   "metadata": {},
   "outputs": [],
   "source": [
    "def summasion_x(val):\n",
    "    a=0\n",
    "    x_sum=list()\n",
    "    for i in range(0,val.shape[0]):\n",
    "        a=a+val[i][0]\n",
    "    return a.round(2)"
   ]
  },
  {
   "cell_type": "code",
   "execution_count": 44,
   "metadata": {},
   "outputs": [],
   "source": [
    "def summasion_y(val):\n",
    "    a=int()\n",
    "    y_sum=list()\n",
    "    for i in range(0,val.shape[0]):\n",
    "        a=a+val[i][1]\n",
    "    return a.round(2)\n",
    "    "
   ]
  },
  {
   "cell_type": "code",
   "execution_count": 45,
   "metadata": {},
   "outputs": [],
   "source": [
    "def mean_x(val):\n",
    "    total=summasion_x(val)\n",
    "    mean_x=total/val.shape[0]\n",
    "    return mean_x.round(3)"
   ]
  },
  {
   "cell_type": "code",
   "execution_count": 46,
   "metadata": {},
   "outputs": [],
   "source": [
    "def mean_y(val):\n",
    "    total=summasion_y(val)\n",
    "    mean_y=total/val.shape[0]\n",
    "    return mean_y.round(3)"
   ]
  },
  {
   "cell_type": "code",
   "execution_count": 47,
   "metadata": {},
   "outputs": [],
   "source": [
    "def sum_x_sub_mean_sq(val):\n",
    "    m=mean_x(val)\n",
    "    a=0\n",
    "    x_xmean=list()\n",
    "    for i in range(0,val.shape[0]):\n",
    "        x_xmean.append((val[i][0]-m)**2)\n",
    "    for i in x_xmean:\n",
    "        a=a+i\n",
    "    return a"
   ]
  },
  {
   "cell_type": "code",
   "execution_count": 48,
   "metadata": {},
   "outputs": [],
   "source": [
    "def summation_x_y(val):\n",
    "    m_x=mean_x(val)\n",
    "    m_y=mean_y(val)\n",
    "    a=0\n",
    "    x_y=list()\n",
    "    for i in range(0,val.shape[0]):\n",
    "        x_y.append((val[i][0]-m_x)*(val[i][1]-m_y))\n",
    "    for i in x_y:\n",
    "        a=a+i\n",
    "    return a"
   ]
  },
  {
   "cell_type": "code",
   "execution_count": 49,
   "metadata": {},
   "outputs": [],
   "source": [
    "n=summation_x_y(data)\n",
    "d=sum_x_sub_mean_sq(data)\n",
    "B1=n/d"
   ]
  },
  {
   "cell_type": "code",
   "execution_count": 50,
   "metadata": {},
   "outputs": [
    {
     "data": {
      "text/plain": [
       "0.105025"
      ]
     },
     "execution_count": 50,
     "metadata": {},
     "output_type": "execute_result"
    }
   ],
   "source": [
    "B1=B1.round(6)\n",
    "B1"
   ]
  },
  {
   "cell_type": "code",
   "execution_count": 51,
   "metadata": {},
   "outputs": [],
   "source": [
    "B0=(summasion_y(data)-(B1*summasion_x(data)))/data.shape[0]\n",
    "B0=B0.round(6)"
   ]
  },
  {
   "cell_type": "code",
   "execution_count": 52,
   "metadata": {},
   "outputs": [
    {
     "data": {
      "text/plain": [
       "0.92026"
      ]
     },
     "execution_count": 52,
     "metadata": {},
     "output_type": "execute_result"
    }
   ],
   "source": [
    "B0"
   ]
  },
  {
   "cell_type": "code",
   "execution_count": 53,
   "metadata": {},
   "outputs": [
    {
     "data": {
      "image/png": "[encoded data removed]",
      "text/plain": [
       "<Figure size 1080x360 with 1 Axes>"
      ]
     },
     "metadata": {
      "needs_background": "light"
     },
     "output_type": "display_data"
    }
   ],
   "source": [
    "x=np.linspace(2,50,10)\n",
    "y=B1*x+B0\n",
    "plt.figure(figsize=(15,5))\n",
    "plt.scatter(x=df.total_bill,y=df.tip)\n",
    "plt.plot(x,y,color=\"red\",ls=\"--\",lw=3)\n",
    "plt.xlabel(\"total_bill\")\n",
    "plt.ylabel(\"tip\")\n",
    "plt.show()"
   ]
  },
  {
   "cell_type": "markdown",
   "metadata": {},
   "source": [
    "R^2=SSR/SST\n",
    "R^2=1-SSE/SST\n",
    "\n",
    "SSE=Sum of squares of error(Explained Variability);\n",
    "SST=Sum of squares total(Total Variability);\n",
    "SSR=Sum of squares of regression"
   ]
  },
  {
   "cell_type": "code",
   "execution_count": 54,
   "metadata": {},
   "outputs": [],
   "source": [
    "def SST(val):\n",
    "    m=mean_y(val)\n",
    "    a=0\n",
    "    y_ymean=list()\n",
    "    for i in range(0,val.shape[0]):\n",
    "        y_ymean.append(((val[i][1]-m)**2))\n",
    "    for i in y_ymean:\n",
    "        a=a+i\n",
    "    return a.round(2)"
   ]
  },
  {
   "cell_type": "code",
   "execution_count": 55,
   "metadata": {},
   "outputs": [],
   "source": [
    "def SSE(val):\n",
    "    a=0\n",
    "    y_pred=list()\n",
    "    y_actual=list()\n",
    "    for i in range(0,val.shape[0]):\n",
    "        y=B1*val[i][0]+B0\n",
    "        y_pred.append(y)\n",
    "        y_actual.append(val[i][1])\n",
    "    ya_yp=[(x-y)**2 for x,y in zip(y_actual,y_pred)]\n",
    "    for i in ya_yp:\n",
    "        a=a+i\n",
    "    return a.round(2)"
   ]
  },
  {
   "cell_type": "code",
   "execution_count": 56,
   "metadata": {},
   "outputs": [],
   "source": [
    "def R_suared(val):\n",
    "    R_sq=1-(SSE(val)/SST(val))\n",
    "    return R_sq.round(2)"
   ]
  },
  {
   "cell_type": "code",
   "execution_count": 57,
   "metadata": {},
   "outputs": [
    {
     "data": {
      "text/plain": [
       "0.46"
      ]
     },
     "execution_count": 57,
     "metadata": {},
     "output_type": "execute_result"
    }
   ],
   "source": [
    "R_suared(data)"
   ]
  },
  {
   "cell_type": "markdown",
   "metadata": {},
   "source": [
    "Standard error of estimate is measure of variation of an observation made around computed regression line."
   ]
  },
  {
   "cell_type": "code",
   "execution_count": 58,
   "metadata": {},
   "outputs": [],
   "source": [
    "def Standard_error_estimate(val):\n",
    "    a=SSE(val)\n",
    "    SEE=(a/(val.shape[0]-2))**0.5\n",
    "    return SEE"
   ]
  },
  {
   "cell_type": "markdown",
   "metadata": {},
   "source": [
    "Finding Value of tip based on total bill"
   ]
  },
  {
   "cell_type": "code",
   "execution_count": 59,
   "metadata": {},
   "outputs": [
    {
     "name": "stdout",
     "output_type": "stream",
     "text": [
      "Enter Total Bill paid: \n"
     ]
    },
    {
     "ename": "ValueError",
     "evalue": "could not convert string to float: ''",
     "output_type": "error",
     "traceback": [
      "\u001b[1;31m---------------------------------------------------------------------------\u001b[0m",
      "\u001b[1;31mValueError\u001b[0m                                Traceback (most recent call last)",
      "\u001b[1;32m<ipython-input-59-e664150a71ed>\u001b[0m in \u001b[0;36m<module>\u001b[1;34m\u001b[0m\n\u001b[1;32m----> 1\u001b[1;33m \u001b[0mtb\u001b[0m\u001b[1;33m=\u001b[0m\u001b[0mfloat\u001b[0m\u001b[1;33m(\u001b[0m\u001b[0minput\u001b[0m\u001b[1;33m(\u001b[0m\u001b[1;34m\"Enter Total Bill paid: \"\u001b[0m\u001b[1;33m)\u001b[0m\u001b[1;33m)\u001b[0m\u001b[1;33m\u001b[0m\u001b[1;33m\u001b[0m\u001b[0m\n\u001b[0m\u001b[0;32m      2\u001b[0m \u001b[0mexpected_tip\u001b[0m\u001b[1;33m=\u001b[0m\u001b[0mB1\u001b[0m\u001b[1;33m*\u001b[0m\u001b[0mtb\u001b[0m\u001b[1;33m+\u001b[0m\u001b[0mB0\u001b[0m\u001b[1;33m\u001b[0m\u001b[1;33m\u001b[0m\u001b[0m\n\u001b[0;32m      3\u001b[0m \u001b[0mprint\u001b[0m\u001b[1;33m(\u001b[0m\u001b[1;34m\"{} +- {}\"\u001b[0m\u001b[1;33m.\u001b[0m\u001b[0mformat\u001b[0m\u001b[1;33m(\u001b[0m\u001b[0mexpected_tip\u001b[0m\u001b[1;33m,\u001b[0m \u001b[0mStandard_error_estimate\u001b[0m\u001b[1;33m(\u001b[0m\u001b[0mdata\u001b[0m\u001b[1;33m)\u001b[0m\u001b[1;33m)\u001b[0m\u001b[1;33m)\u001b[0m\u001b[1;33m\u001b[0m\u001b[1;33m\u001b[0m\u001b[0m\n",
      "\u001b[1;31mValueError\u001b[0m: could not convert string to float: ''"
     ]
    }
   ],
   "source": [
    "tb=float(input(\"Enter Total Bill paid: \"))\n",
    "expected_tip=B1*tb+B0\n",
    "print(\"{} +- {}\".format(expected_tip, Standard_error_estimate(data)))"
   ]
  },
  {
   "cell_type": "markdown",
   "metadata": {},
   "source": [
    "# Inbuilt Function"
   ]
  },
  {
   "cell_type": "code",
   "execution_count": 60,
   "metadata": {},
   "outputs": [],
   "source": [
    "from sklearn.linear_model import LinearRegression"
   ]
  },
  {
   "cell_type": "code",
   "execution_count": 61,
   "metadata": {},
   "outputs": [],
   "source": [
    "regressor=LinearRegression()"
   ]
  },
  {
   "cell_type": "code",
   "execution_count": 62,
   "metadata": {},
   "outputs": [],
   "source": [
    "y=df[\"tip\"]"
   ]
  },
  {
   "cell_type": "code",
   "execution_count": 63,
   "metadata": {},
   "outputs": [],
   "source": [
    "y=np.array(y)"
   ]
  },
  {
   "cell_type": "code",
   "execution_count": 64,
   "metadata": {},
   "outputs": [],
   "source": [
    "x=df[\"total_bill\"]"
   ]
  },
  {
   "cell_type": "code",
   "execution_count": 65,
   "metadata": {},
   "outputs": [],
   "source": [
    "x=np.array(x)"
   ]
  },
  {
   "cell_type": "code",
   "execution_count": 66,
   "metadata": {},
   "outputs": [],
   "source": [
    "y=y.reshape(-1,1)"
   ]
  },
  {
   "cell_type": "code",
   "execution_count": 67,
   "metadata": {},
   "outputs": [],
   "source": [
    "x=x.reshape(-1,1)"
   ]
  },
  {
   "cell_type": "code",
   "execution_count": 68,
   "metadata": {},
   "outputs": [
    {
     "data": {
      "text/plain": [
       "LinearRegression()"
      ]
     },
     "execution_count": 68,
     "metadata": {},
     "output_type": "execute_result"
    }
   ],
   "source": [
    "regressor.fit(x,y)"
   ]
  },
  {
   "cell_type": "code",
   "execution_count": 69,
   "metadata": {},
   "outputs": [
    {
     "data": {
      "text/plain": [
       "array([[0.10502452]])"
      ]
     },
     "execution_count": 69,
     "metadata": {},
     "output_type": "execute_result"
    }
   ],
   "source": [
    "regressor.coef_"
   ]
  },
  {
   "cell_type": "code",
   "execution_count": 70,
   "metadata": {},
   "outputs": [
    {
     "data": {
      "text/plain": [
       "array([0.92026961])"
      ]
     },
     "execution_count": 70,
     "metadata": {},
     "output_type": "execute_result"
    }
   ],
   "source": [
    "regressor.intercept_"
   ]
  }
 ],
 "metadata": {
  "kernelspec": {
   "display_name": "Python 3",
   "language": "python",
   "name": "python3"
  },
  "language_info": {
   "codemirror_mode": {
    "name": "ipython",
    "version": 3
   },
   "file_extension": ".py",
   "mimetype": "text/x-python",
   "name": "python",
   "nbconvert_exporter": "python",
   "pygments_lexer": "ipython3",
   "version": "3.8.5"
  }
 },
 "nbformat": 4,
 "nbformat_minor": 4
}
